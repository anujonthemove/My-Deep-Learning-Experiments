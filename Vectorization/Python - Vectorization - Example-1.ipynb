{
 "cells": [
  {
   "cell_type": "markdown",
   "id": "3cb7f839",
   "metadata": {},
   "source": [
    "## Imports"
   ]
  },
  {
   "cell_type": "code",
   "execution_count": 18,
   "id": "b40e6724",
   "metadata": {},
   "outputs": [],
   "source": [
    "import numpy as np\n",
    "import time"
   ]
  },
  {
   "cell_type": "markdown",
   "id": "3e6397a4",
   "metadata": {},
   "source": [
    "## Create data"
   ]
  },
  {
   "cell_type": "code",
   "execution_count": 32,
   "id": "9a0367e6",
   "metadata": {},
   "outputs": [],
   "source": [
    "a = np.random.rand((2000000))\n",
    "b = np.random.rand((2000000))"
   ]
  },
  {
   "cell_type": "markdown",
   "id": "c66ee530",
   "metadata": {},
   "source": [
    "## No"
   ]
  },
  {
   "cell_type": "code",
   "execution_count": 33,
   "id": "c3e8d732",
   "metadata": {},
   "outputs": [],
   "source": [
    "def non_vect(a, b):\n",
    "    c = 0\n",
    "    for i in range(a.shape[0]):\n",
    "        c += a[i]*b[i]\n",
    "    return c"
   ]
  },
  {
   "cell_type": "code",
   "execution_count": 34,
   "id": "0ccb91ec",
   "metadata": {},
   "outputs": [],
   "source": [
    "def vect(a, b):\n",
    "    c = np.dot(a, b)\n",
    "    return c"
   ]
  },
  {
   "cell_type": "code",
   "execution_count": 35,
   "id": "ccbea5b9",
   "metadata": {},
   "outputs": [
    {
     "name": "stdout",
     "output_type": "stream",
     "text": [
      "c: 499970.29315201705\n",
      "Took: 0.4745173454284668 seconds..\n"
     ]
    }
   ],
   "source": [
    "start = time.time()\n",
    "c = non_vect(a, b)\n",
    "end = time.time()\n",
    "\n",
    "print(\"c: {}\".format(c))\n",
    "print(\"Took: {} seconds..\".format(end-start))"
   ]
  },
  {
   "cell_type": "code",
   "execution_count": 36,
   "id": "4002c54c",
   "metadata": {},
   "outputs": [
    {
     "name": "stdout",
     "output_type": "stream",
     "text": [
      "c_vect: 499970.29315204045\n",
      "Took: 0.0017504692077636719 seconds..\n"
     ]
    }
   ],
   "source": [
    "start = time.time()\n",
    "c_vect = vect(a, b)\n",
    "end = time.time()\n",
    "\n",
    "print(\"c_vect: {}\".format(c_vect))\n",
    "print(\"Took: {} seconds..\".format(end-start))"
   ]
  },
  {
   "cell_type": "code",
   "execution_count": null,
   "id": "0b9b1628",
   "metadata": {},
   "outputs": [],
   "source": []
  }
 ],
 "metadata": {
  "kernelspec": {
   "display_name": "Python 3 (ipykernel)",
   "language": "python",
   "name": "python3"
  },
  "language_info": {
   "codemirror_mode": {
    "name": "ipython",
    "version": 3
   },
   "file_extension": ".py",
   "mimetype": "text/x-python",
   "name": "python",
   "nbconvert_exporter": "python",
   "pygments_lexer": "ipython3",
   "version": "3.8.10"
  }
 },
 "nbformat": 4,
 "nbformat_minor": 5
}

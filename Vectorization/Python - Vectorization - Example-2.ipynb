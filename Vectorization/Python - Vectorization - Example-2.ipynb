{
 "cells": [
  {
   "cell_type": "markdown",
   "id": "818db26d",
   "metadata": {},
   "source": [
    "## Found on Stack Overflow\n",
    "\n",
    "1. https://stackoverflow.com/questions/39667089/python-vectorizing-nested-for-loops/39667342#39667342"
   ]
  },
  {
   "cell_type": "code",
   "execution_count": 1,
   "id": "732b33f7",
   "metadata": {},
   "outputs": [],
   "source": [
    "import numpy as np\n",
    "from scipy.spatial import distance\n",
    "import time"
   ]
  },
  {
   "cell_type": "code",
   "execution_count": 2,
   "id": "c04d7db6",
   "metadata": {},
   "outputs": [],
   "source": [
    "def _func(a, b, radius):\n",
    "    \"Return 0 if a>b, otherwise return 1\"\n",
    "    if distance.euclidean(a, b) < radius:\n",
    "        return 1\n",
    "    else:\n",
    "        return 0"
   ]
  },
  {
   "cell_type": "code",
   "execution_count": 3,
   "id": "7a0f22bc",
   "metadata": {},
   "outputs": [],
   "source": [
    "def _make_mask(volume, roi, radius):\n",
    "    mask = np.zeros(volume.shape)\n",
    "    for x in range(volume.shape[0]):\n",
    "        for y in range(volume.shape[1]):\n",
    "            for z in range(volume.shape[2]):\n",
    "                mask[x, y, z] = _func((x, y, z), roi, radius)\n",
    "    return mask"
   ]
  },
  {
   "cell_type": "code",
   "execution_count": 4,
   "id": "3b97341b",
   "metadata": {},
   "outputs": [],
   "source": [
    "volume = np.random.rand(90, 110, 100)\n",
    "roi = np.random.rand(3,)\n",
    "radius = 3.4"
   ]
  },
  {
   "cell_type": "code",
   "execution_count": 5,
   "id": "5c2e23f3",
   "metadata": {},
   "outputs": [
    {
     "name": "stdout",
     "output_type": "stream",
     "text": [
      "Took: 5.757521152496338 seconds..\n"
     ]
    }
   ],
   "source": [
    "start = time.time()\n",
    "mask = _make_mask(volume, roi, radius)\n",
    "end = time.time()\n",
    "\n",
    "# print(\"mask: {}\".format(mask))\n",
    "print(\"Took: {} seconds..\".format(end-start))"
   ]
  },
  {
   "cell_type": "code",
   "execution_count": 6,
   "id": "47bba892",
   "metadata": {},
   "outputs": [],
   "source": [
    "def _vect_make_mask(volume, roi, radius):\n",
    "    m, n, r = volume.shape\n",
    "    x, y, z = np.mgrid[0:m, 0:n, 0:r]\n",
    "    X = x-roi[0]\n",
    "    Y = y-roi[1]\n",
    "    Z = z-roi[2]\n",
    "    \n",
    "    return (X**2+Y**2+Z**2 < radius**2)\n",
    "    \n",
    "    "
   ]
  },
  {
   "cell_type": "code",
   "execution_count": 7,
   "id": "39ea54ea",
   "metadata": {},
   "outputs": [
    {
     "name": "stdout",
     "output_type": "stream",
     "text": [
      "Took: 0.022801637649536133 seconds..\n"
     ]
    }
   ],
   "source": [
    "start = time.time()\n",
    "vect_mask = _vect_make_mask(volume, roi, radius)\n",
    "end = time.time()\n",
    "\n",
    "# print(\"mask: {}\".format(mask))\n",
    "print(\"Took: {} seconds..\".format(end-start))"
   ]
  },
  {
   "cell_type": "code",
   "execution_count": 8,
   "id": "b5c8caee",
   "metadata": {},
   "outputs": [
    {
     "data": {
      "text/plain": [
       "array([[[ True,  True,  True, ...,  True,  True,  True],\n",
       "        [ True,  True,  True, ...,  True,  True,  True],\n",
       "        [ True,  True,  True, ...,  True,  True,  True],\n",
       "        ...,\n",
       "        [ True,  True,  True, ...,  True,  True,  True],\n",
       "        [ True,  True,  True, ...,  True,  True,  True],\n",
       "        [ True,  True,  True, ...,  True,  True,  True]],\n",
       "\n",
       "       [[ True,  True,  True, ...,  True,  True,  True],\n",
       "        [ True,  True,  True, ...,  True,  True,  True],\n",
       "        [ True,  True,  True, ...,  True,  True,  True],\n",
       "        ...,\n",
       "        [ True,  True,  True, ...,  True,  True,  True],\n",
       "        [ True,  True,  True, ...,  True,  True,  True],\n",
       "        [ True,  True,  True, ...,  True,  True,  True]],\n",
       "\n",
       "       [[ True,  True,  True, ...,  True,  True,  True],\n",
       "        [ True,  True,  True, ...,  True,  True,  True],\n",
       "        [ True,  True,  True, ...,  True,  True,  True],\n",
       "        ...,\n",
       "        [ True,  True,  True, ...,  True,  True,  True],\n",
       "        [ True,  True,  True, ...,  True,  True,  True],\n",
       "        [ True,  True,  True, ...,  True,  True,  True]],\n",
       "\n",
       "       ...,\n",
       "\n",
       "       [[ True,  True,  True, ...,  True,  True,  True],\n",
       "        [ True,  True,  True, ...,  True,  True,  True],\n",
       "        [ True,  True,  True, ...,  True,  True,  True],\n",
       "        ...,\n",
       "        [ True,  True,  True, ...,  True,  True,  True],\n",
       "        [ True,  True,  True, ...,  True,  True,  True],\n",
       "        [ True,  True,  True, ...,  True,  True,  True]],\n",
       "\n",
       "       [[ True,  True,  True, ...,  True,  True,  True],\n",
       "        [ True,  True,  True, ...,  True,  True,  True],\n",
       "        [ True,  True,  True, ...,  True,  True,  True],\n",
       "        ...,\n",
       "        [ True,  True,  True, ...,  True,  True,  True],\n",
       "        [ True,  True,  True, ...,  True,  True,  True],\n",
       "        [ True,  True,  True, ...,  True,  True,  True]],\n",
       "\n",
       "       [[ True,  True,  True, ...,  True,  True,  True],\n",
       "        [ True,  True,  True, ...,  True,  True,  True],\n",
       "        [ True,  True,  True, ...,  True,  True,  True],\n",
       "        ...,\n",
       "        [ True,  True,  True, ...,  True,  True,  True],\n",
       "        [ True,  True,  True, ...,  True,  True,  True],\n",
       "        [ True,  True,  True, ...,  True,  True,  True]]])"
      ]
     },
     "execution_count": 8,
     "metadata": {},
     "output_type": "execute_result"
    }
   ],
   "source": [
    "mask == vect_mask"
   ]
  }
 ],
 "metadata": {
  "kernelspec": {
   "display_name": "Python 3 (ipykernel)",
   "language": "python",
   "name": "python3"
  },
  "language_info": {
   "codemirror_mode": {
    "name": "ipython",
    "version": 3
   },
   "file_extension": ".py",
   "mimetype": "text/x-python",
   "name": "python",
   "nbconvert_exporter": "python",
   "pygments_lexer": "ipython3",
   "version": "3.8.10"
  }
 },
 "nbformat": 4,
 "nbformat_minor": 5
}

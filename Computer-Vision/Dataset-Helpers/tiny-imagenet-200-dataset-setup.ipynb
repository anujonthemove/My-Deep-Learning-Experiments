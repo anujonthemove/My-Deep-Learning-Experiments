{
 "cells": [
  {
   "cell_type": "markdown",
   "id": "8c37aa2c",
   "metadata": {},
   "source": [
    "## Imports"
   ]
  },
  {
   "cell_type": "code",
   "execution_count": 1,
   "id": "5b8dfd58",
   "metadata": {},
   "outputs": [],
   "source": [
    "import numpy as np\n",
    "import os\n",
    "import pathlib\n",
    "import shutil\n",
    "import splitfolders"
   ]
  },
  {
   "cell_type": "markdown",
   "id": "9c602372",
   "metadata": {},
   "source": [
    "## Paths"
   ]
  },
  {
   "cell_type": "code",
   "execution_count": 2,
   "id": "9881860b",
   "metadata": {},
   "outputs": [],
   "source": [
    "wnids_path = '/home/acer/Downloads/tiny-imagenet-200/wnids.txt'\n",
    "words_path = '/home/acer/Downloads/tiny-imagenet-200/words.txt'"
   ]
  },
  {
   "cell_type": "code",
   "execution_count": 3,
   "id": "7e308f23",
   "metadata": {},
   "outputs": [],
   "source": [
    "wnids = list(map(lambda x: x.strip(), open(wnids_path).readlines()))"
   ]
  },
  {
   "cell_type": "code",
   "execution_count": 5,
   "id": "be04880b",
   "metadata": {},
   "outputs": [],
   "source": [
    "lst = list(map(lambda x:(x.strip('\\n').split('\\t')), open(words_path).readlines()))"
   ]
  },
  {
   "cell_type": "code",
   "execution_count": 7,
   "id": "c1a2d7c6",
   "metadata": {},
   "outputs": [],
   "source": [
    "word_mapping = dict(map(lambda x:(x[0], x[1].split(',')), lst))"
   ]
  },
  {
   "cell_type": "code",
   "execution_count": 9,
   "id": "9c0cc9dd",
   "metadata": {},
   "outputs": [],
   "source": [
    "catetory_name_list = list(map(word_mapping.get, wnids))"
   ]
  },
  {
   "cell_type": "code",
   "execution_count": 11,
   "id": "3c738110",
   "metadata": {},
   "outputs": [
    {
     "data": {
      "text/plain": [
       "'reel'"
      ]
     },
     "execution_count": 11,
     "metadata": {},
     "output_type": "execute_result"
    }
   ],
   "source": [
    "catetory_name_list[1][0]"
   ]
  },
  {
   "cell_type": "code",
   "execution_count": 12,
   "id": "a8fa6336",
   "metadata": {},
   "outputs": [],
   "source": [
    "train_images_path = '/home/acer/Downloads/tiny-imagenet-200/train'\n",
    "train_images_target_path = '/home/acer/Downloads/tinyimagenet-dataset/train'\n",
    "validation_images_target_path = '/home/acer/Downloads/tinyimagenet-dataset/split'"
   ]
  },
  {
   "cell_type": "code",
   "execution_count": 13,
   "id": "2661b81a",
   "metadata": {},
   "outputs": [],
   "source": [
    "for dir_name in sorted(os.listdir(train_images_path)):\n",
    "    abs_src_dir_path = os.path.join(train_images_path, dir_name, 'images')\n",
    "    abs_target_dir_path = os.path.join(train_images_target_path, word_mapping[dir_name][0])\n",
    "    pathlib.Path(abs_target_dir_path).mkdir(parents=True, exist_ok=True)\n",
    "    \n",
    "    for image_name in os.listdir(abs_src_dir_path):\n",
    "        abs_src_image_path = os.path.join(abs_src_dir_path, image_name)\n",
    "        abs_target_image_path = os.path.join(abs_target_dir_path, image_name)\n",
    "        shutil.copy(abs_src_image_path, abs_target_image_path)"
   ]
  },
  {
   "cell_type": "code",
   "execution_count": 14,
   "id": "085a39c0",
   "metadata": {},
   "outputs": [
    {
     "name": "stderr",
     "output_type": "stream",
     "text": [
      "Copying files: 100000 files [00:04, 22772.34 files/s]\n"
     ]
    }
   ],
   "source": [
    "splitfolders.ratio(train_images_target_path, output=validation_images_target_path, seed=1337, ratio=(.8, .2), group_prefix=None)"
   ]
  },
  {
   "cell_type": "markdown",
   "id": "9a445e23",
   "metadata": {},
   "source": [
    "# References\n",
    "1. https://stackoverflow.com/questions/24204087/python-dictionary-get-multiple-values\n",
    "2. https://github.com/rmccorm4/Tiny-Imagenet-200"
   ]
  },
  {
   "cell_type": "code",
   "execution_count": null,
   "id": "77e26172",
   "metadata": {},
   "outputs": [],
   "source": []
  }
 ],
 "metadata": {
  "kernelspec": {
   "display_name": "Python 3 (ipykernel)",
   "language": "python",
   "name": "python3"
  },
  "language_info": {
   "codemirror_mode": {
    "name": "ipython",
    "version": 3
   },
   "file_extension": ".py",
   "mimetype": "text/x-python",
   "name": "python",
   "nbconvert_exporter": "python",
   "pygments_lexer": "ipython3",
   "version": "3.8.10"
  }
 },
 "nbformat": 4,
 "nbformat_minor": 5
}

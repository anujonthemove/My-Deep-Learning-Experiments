{
 "cells": [
  {
   "cell_type": "markdown",
   "id": "9cd0c372",
   "metadata": {},
   "source": [
    "## References\n",
    "1. https://www.delftstack.com/howto/numpy/calculate-euclidean-distance/"
   ]
  },
  {
   "cell_type": "code",
   "execution_count": 1,
   "id": "d15a2772",
   "metadata": {},
   "outputs": [],
   "source": [
    "import numpy as np"
   ]
  },
  {
   "cell_type": "markdown",
   "id": "623c9dde",
   "metadata": {},
   "source": [
    "'''\n",
    "d(\\mathbf {p,q})= \n",
    "'''\n",
    "\\sqrt{\\sum \\limits_{i=1}^n (q_i-p_i)^2}\n",
    "\n",
    "\n"
   ]
  },
  {
   "cell_type": "markdown",
   "id": "b9bb981a",
   "metadata": {},
   "source": [
    "$\\hat{Y} = \\hat{\\beta}_{0} + \\sum \\limits _{j=1} ^{p} X_{j}\\hat{\\beta}_{j} $"
   ]
  },
  {
   "cell_type": "code",
   "execution_count": 2,
   "id": "3dbcd93a",
   "metadata": {},
   "outputs": [],
   "source": [
    "def calculate_eucledian_distance_naive(v1, v2):\n",
    "    \"\"\"\n",
    "    v1: first vector\n",
    "    v2: second vector\n",
    "    \"\"\"\n",
    "    \n",
    "    diff = v1-v2\n",
    "    square = np.square(diff)\n",
    "    summation = np.sum(square)\n",
    "    square_root = np.sqrt(summation)\n",
    "    return square_root"
   ]
  },
  {
   "cell_type": "code",
   "execution_count": 3,
   "id": "c8d81fe7",
   "metadata": {},
   "outputs": [],
   "source": [
    "def calculate_eucledian_distance_using_numpy(v1, v2):\n",
    "    \"\"\"\n",
    "    v1: first vector\n",
    "    v2: second vector\n",
    "    \"\"\"\n",
    "    diff = v1-v2\n",
    "    return np.linalg.norm(diff)"
   ]
  },
  {
   "cell_type": "code",
   "execution_count": 4,
   "id": "a09966ac",
   "metadata": {},
   "outputs": [],
   "source": [
    "def calculate_eucledian_distance_using_dot_product(v1, v2):\n",
    "    \"\"\"\n",
    "    v1: first vector\n",
    "    v2: second vector\n",
    "    \"\"\"\n",
    "    diff = v1-v2\n",
    "    return np.sqrt(np.dot(diff.T, diff))"
   ]
  },
  {
   "cell_type": "code",
   "execution_count": 5,
   "id": "acd84b9d",
   "metadata": {},
   "outputs": [],
   "source": [
    "v1 = np.array([2, 3, 8, 9])\n",
    "v2 = np.array([4, 2, 3, 6])"
   ]
  },
  {
   "cell_type": "code",
   "execution_count": 6,
   "id": "aea39798",
   "metadata": {},
   "outputs": [
    {
     "data": {
      "text/plain": [
       "6.244997998398398"
      ]
     },
     "execution_count": 6,
     "metadata": {},
     "output_type": "execute_result"
    }
   ],
   "source": [
    "calculate_eucledian_distance_naive(v1, v2)"
   ]
  },
  {
   "cell_type": "code",
   "execution_count": 7,
   "id": "6cf8ec29",
   "metadata": {},
   "outputs": [
    {
     "data": {
      "text/plain": [
       "6.244997998398398"
      ]
     },
     "execution_count": 7,
     "metadata": {},
     "output_type": "execute_result"
    }
   ],
   "source": [
    "calculate_eucledian_distance_using_numpy(v1, v2)"
   ]
  },
  {
   "cell_type": "code",
   "execution_count": 8,
   "id": "c74becde",
   "metadata": {},
   "outputs": [
    {
     "data": {
      "text/plain": [
       "6.244997998398398"
      ]
     },
     "execution_count": 8,
     "metadata": {},
     "output_type": "execute_result"
    }
   ],
   "source": [
    "calculate_eucledian_distance_using_dot_product(v1, v2)"
   ]
  }
 ],
 "metadata": {
  "kernelspec": {
   "display_name": "Python 3 (ipykernel)",
   "language": "python",
   "name": "python3"
  },
  "language_info": {
   "codemirror_mode": {
    "name": "ipython",
    "version": 3
   },
   "file_extension": ".py",
   "mimetype": "text/x-python",
   "name": "python",
   "nbconvert_exporter": "python",
   "pygments_lexer": "ipython3",
   "version": "3.8.10"
  }
 },
 "nbformat": 4,
 "nbformat_minor": 5
}
